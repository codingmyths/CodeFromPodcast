{
 "cells": [
  {
   "cell_type": "code",
   "execution_count": null,
   "id": "f208f28b",
   "metadata": {},
   "outputs": [],
   "source": [
    "def greet(someone):\n",
    "    print('Hello, ' + someon)\n",
    "\n",
    "greet('Chad')"
   ]
  },
  {
   "cell_type": "markdown",
   "id": "9713017d-b0aa-4b1d-9a03-b14471bb59cb",
   "metadata": {
    "jupyter": {
     "source_hidden": true
    },
    "tags": []
   },
   "source": [
    "# How to read error messages\n",
    "\n",
    "![Error](https://files.realpython.com/media/python_traceback_2.b27a4eb060a8.png)\n",
    "\n",
    "Blue box: The last line of the traceback is the error message line. It contains the exception name that was raised.\n",
    "\n",
    "Green box: After the exception name is the error message. This message usually contains helpful information for understanding the reason for the exception being raised.\n",
    "\n",
    "Yellow box: Further up the traceback are the various function calls moving from bottom to top, most recent to least recent. These calls are represented by two-line entries for each call. The first line of each call contains information like the file name, line number, and module name, all specifying where the code can be found.\n",
    "\n",
    "Red underline: The second line for these calls contains the actual code that was executed."
   ]
  },
  {
   "cell_type": "code",
   "execution_count": null,
   "id": "b606d32c-5d59-4c10-b3df-0fe29fa9d296",
   "metadata": {},
   "outputs": [],
   "source": [
    "# greetings.py\n",
    "def who_to_greet(person):\n",
    "    return person if person else input('Greet who? ')\n",
    "\n",
    "def greet(someone, greeting='Hello'):\n",
    "    print(greeting + ', ' + who_to_greet(someone))\n",
    "\n",
    "def greet_many(people):\n",
    "    for person in people:\n",
    "        try:\n",
    "            greet(person)\n",
    "        except Exception:\n",
    "            print('hi, ' + person)"
   ]
  },
  {
   "cell_type": "code",
   "execution_count": null,
   "id": "2b563067-3bfc-44f7-97ef-648828f51483",
   "metadata": {},
   "outputs": [],
   "source": [
    "greet('Chad', greting='Yo')"
   ]
  },
  {
   "cell_type": "code",
   "execution_count": null,
   "id": "581c21eb-9f9c-43e5-8adf-ed43d7a0961f",
   "metadata": {},
   "outputs": [],
   "source": [
    "greet(1)"
   ]
  },
  {
   "cell_type": "code",
   "execution_count": null,
   "id": "eaac99b7-8581-49dc-86c9-ee257b5429ac",
   "metadata": {},
   "outputs": [],
   "source": [
    "greet_many(['Chad', 'Dan', 1])"
   ]
  },
  {
   "cell_type": "markdown",
   "id": "dcc99a35-8218-4bde-b769-90aaab032059",
   "metadata": {},
   "source": [
    "# Common Tracebacks in Python"
   ]
  },
  {
   "cell_type": "markdown",
   "id": "155e0644-347d-4b00-a4da-9dd1b9fb16ba",
   "metadata": {},
   "source": [
    "## AttributeError"
   ]
  },
  {
   "cell_type": "code",
   "execution_count": null,
   "id": "97e8f65e-03e9-4a6d-a281-38ab7311bfd9",
   "metadata": {},
   "outputs": [],
   "source": [
    "arr = [1, 2, 3]\n",
    "\n",
    "arr.push_back(4)"
   ]
  },
  {
   "cell_type": "code",
   "execution_count": null,
   "id": "c97c23a7-7d09-4618-b12a-357693d7e73a",
   "metadata": {},
   "outputs": [],
   "source": [
    "pd.read_cvs(\"example.txt\")"
   ]
  },
  {
   "cell_type": "markdown",
   "id": "4d258e36-5486-4475-9a79-11dd23a0ecb6",
   "metadata": {},
   "source": [
    "## ImportError"
   ]
  },
  {
   "cell_type": "code",
   "execution_count": null,
   "id": "e8f03001-b47f-470d-87e6-0fbe47aa81d5",
   "metadata": {},
   "outputs": [],
   "source": [
    "import pandas as pd"
   ]
  },
  {
   "cell_type": "markdown",
   "id": "f12cd278-34f0-4ed4-a6e1-82d7ab82457c",
   "metadata": {},
   "source": [
    "## IndexError"
   ]
  },
  {
   "cell_type": "code",
   "execution_count": null,
   "id": "233f8d57-0b1a-4541-a194-979dff9f8cd5",
   "metadata": {},
   "outputs": [],
   "source": [
    "arr = [1, 2, 3]\n",
    "\n",
    "arr[3]"
   ]
  },
  {
   "cell_type": "markdown",
   "id": "1ab1a549-06b5-4ec7-a71b-03b5ab1d37d9",
   "metadata": {},
   "source": [
    "## Key Error"
   ]
  },
  {
   "cell_type": "code",
   "execution_count": null,
   "id": "aec944ab-aaac-4072-ae1a-a1780d303dcc",
   "metadata": {},
   "outputs": [],
   "source": [
    "person = {\"name\": \"Allen\", \"age\": 32, \"sex\": \"Male\"}\n",
    "\n",
    "person[\"Age\"]"
   ]
  },
  {
   "cell_type": "markdown",
   "id": "e6036ab3-81f8-44e9-ae22-70276f8e14fa",
   "metadata": {},
   "source": [
    "## NameError"
   ]
  },
  {
   "cell_type": "code",
   "execution_count": null,
   "id": "e910a19a-42ca-4a54-96a5-5d15862ca06a",
   "metadata": {},
   "outputs": [],
   "source": [
    "def greet(person):\n",
    "    print(f'Hello, {persn}')\n",
    "greet('World')"
   ]
  },
  {
   "cell_type": "markdown",
   "id": "0c806812-ef29-4aeb-bb59-48903609b622",
   "metadata": {},
   "source": [
    "## SyntaxError"
   ]
  },
  {
   "cell_type": "code",
   "execution_count": null,
   "id": "51c4d688-5ff0-4b13-86f9-2fae28c272b4",
   "metadata": {},
   "outputs": [],
   "source": [
    "a = 0\n",
    "\n",
    "if (a > 1) {\n",
    "    print(\"greater than 1\")\n",
    "} else {\n",
    "    print(\"not greater than 1\")\n",
    "}"
   ]
  },
  {
   "cell_type": "markdown",
   "id": "a0caeef8-5bbb-4bd0-893d-77efa70d38f4",
   "metadata": {},
   "source": [
    "## TypeError"
   ]
  },
  {
   "cell_type": "code",
   "execution_count": null,
   "id": "80d2e874-b774-48d6-82e3-7d93201af20b",
   "metadata": {},
   "outputs": [],
   "source": [
    "name = \"Allen\"\n",
    "age = 32\n",
    "\n",
    "print(\"Hi \" + name + \", you are \" + age + \" years old\")"
   ]
  },
  {
   "cell_type": "markdown",
   "id": "84334990-52a4-4797-8dac-becee7af23c4",
   "metadata": {},
   "source": [
    "## ValueError"
   ]
  },
  {
   "cell_type": "code",
   "execution_count": null,
   "id": "a7acea94-2bd4-4be1-aa72-ce659ce21697",
   "metadata": {},
   "outputs": [],
   "source": [
    "import math\n",
    "\n",
    "math.sqrt(-10)"
   ]
  },
  {
   "cell_type": "markdown",
   "id": "3fce6190-1c94-425f-a1f1-eb27c11efd9d",
   "metadata": {},
   "source": [
    "# Can you fix this?"
   ]
  },
  {
   "cell_type": "code",
   "execution_count": null,
   "id": "c6ab5c72",
   "metadata": {},
   "outputs": [],
   "source": [
    "#!/usr/bin/python\n",
    "\n",
    "\"\"\"\n",
    "An exercise in playing with Exceptions.\n",
    "Make lots of try/except blocks for fun and profit.\n",
    "\n",
    "Make sure to catch specifically the error you find, rather than all errors.\n",
    "\"\"\"\n",
    "\n",
    "from exccept_test import fun, more_fun, last_fun\n",
    "\n",
    "\n",
    "# Figure out what the exception is, catch it and while still\n",
    "# in that catch block, try again with the second item in the list\n",
    "first_try = ['spam', 'cheese', 'mr death']\n",
    "\n",
    "joke = fun(first_try[0])\n",
    "\n",
    "# Here is a try/except block. Add an else that prints not_joke\n",
    "try:\n",
    "    not_joke = fun(first_try[2])\n",
    "except SyntaxError:\n",
    "    print('Run Away!')\n",
    "\n",
    "# What did that do? You can think of else in this context, as well as in\n",
    "# loops as meaning: \"else if nothing went wrong\"\n",
    "# (no breaks in  loops, no exceptions in try blocks)\n",
    "\n",
    "# Figure out what the exception is, catch it and in that same block\n",
    "#\n",
    "# try calling the more_fun function with the 2nd language in the list,\n",
    "# again assigning it to more_joke.\n",
    "#\n",
    "# If there are no exceptions, call the more_fun function with the last\n",
    "# language in the list\n",
    "\n",
    "# Finally, while still in the try/except block and regardless of whether\n",
    "# there were any exceptions, call the function last_fun with no\n",
    "# parameters. (pun intended)\n",
    "\n",
    "langs = ['java', 'c', 'python']\n",
    "\n",
    "more_joke = more_fun(langs[0])\n"
   ]
  },
  {
   "cell_type": "markdown",
   "id": "b79212f9",
   "metadata": {},
   "source": [
    "# Reference\n",
    "\n",
    "https://realpython.com/python-traceback/\n",
    "\n",
    "https://www.journaldev.com/33500/python-valueerror-exception-handling-examples\n",
    "\n",
    "https://uwpce-pythoncert.github.io/PythonCertDevel/exercises/except_exercise.html"
   ]
  },
  {
   "cell_type": "code",
   "execution_count": null,
   "id": "1042bd95",
   "metadata": {},
   "outputs": [],
   "source": []
  }
 ],
 "metadata": {
  "kernelspec": {
   "display_name": "Python 3 (ipykernel)",
   "language": "python",
   "name": "python3"
  },
  "language_info": {
   "codemirror_mode": {
    "name": "ipython",
    "version": 3
   },
   "file_extension": ".py",
   "mimetype": "text/x-python",
   "name": "python",
   "nbconvert_exporter": "python",
   "pygments_lexer": "ipython3",
   "version": "3.8.10"
  },
  "toc": {
   "base_numbering": 1,
   "nav_menu": {},
   "number_sections": true,
   "sideBar": true,
   "skip_h1_title": false,
   "title_cell": "Table of Contents",
   "title_sidebar": "Contents",
   "toc_cell": false,
   "toc_position": {},
   "toc_section_display": true,
   "toc_window_display": false
  }
 },
 "nbformat": 4,
 "nbformat_minor": 5
}
